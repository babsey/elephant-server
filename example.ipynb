{
 "cells": [
  {
   "cell_type": "code",
   "execution_count": 1,
   "metadata": {},
   "outputs": [],
   "source": [
    "import requests"
   ]
  },
  {
   "cell_type": "code",
   "execution_count": 4,
   "metadata": {},
   "outputs": [
    {
     "data": {
      "text/plain": [
       "['asset',\n",
       " 'cell_assembly_detection',\n",
       " 'change_point_detection',\n",
       " 'conversion',\n",
       " 'cubic',\n",
       " 'current_source_density',\n",
       " 'current_source_density_src',\n",
       " 'gpfa',\n",
       " 'kernels',\n",
       " 'neo_tools',\n",
       " 'pandas_bridge',\n",
       " 'phase_analysis',\n",
       " 'signal_processing',\n",
       " 'spade',\n",
       " 'spade_src',\n",
       " 'spectral',\n",
       " 'spike_train_correlation',\n",
       " 'spike_train_dissimilarity',\n",
       " 'spike_train_generation',\n",
       " 'spike_train_surrogates',\n",
       " 'sta',\n",
       " 'statistics',\n",
       " 'unitary_event_analysis',\n",
       " 'utils',\n",
       " 'waveform_features']"
      ]
     },
     "execution_count": 4,
     "metadata": {},
     "output_type": "execute_result"
    }
   ],
   "source": [
    "requests.get('http://localhost:5000/api').json()"
   ]
  },
  {
   "cell_type": "code",
   "execution_count": 5,
   "metadata": {},
   "outputs": [
    {
     "data": {
      "text/plain": [
       "['SpikeTrain',\n",
       " 'complexity_pdf',\n",
       " 'conv',\n",
       " 'cost_function',\n",
       " 'cv',\n",
       " 'cv2',\n",
       " 'division',\n",
       " 'fanofactor',\n",
       " 'fftkernel',\n",
       " 'ilogexp',\n",
       " 'instantaneous_rate',\n",
       " 'is_time_quantity',\n",
       " 'isi',\n",
       " 'kernels',\n",
       " 'logexp',\n",
       " 'lv',\n",
       " 'math',\n",
       " 'mean_firing_rate',\n",
       " 'neo',\n",
       " 'nextpow2',\n",
       " 'np',\n",
       " 'pq',\n",
       " 'print_function',\n",
       " 'scipy',\n",
       " 'sskernel',\n",
       " 'time_histogram',\n",
       " 'warnings']"
      ]
     },
     "execution_count": 5,
     "metadata": {},
     "output_type": "execute_result"
    }
   ],
   "source": [
    "requests.get('http://localhost:5000/api/statistics').json()"
   ]
  },
  {
   "cell_type": "code",
   "execution_count": 7,
   "metadata": {},
   "outputs": [
    {
     "data": {
      "text/plain": [
       "[1, 1, 1, 7]"
      ]
     },
     "execution_count": 7,
     "metadata": {},
     "output_type": "execute_result"
    }
   ],
   "source": [
    "requests.post('http://localhost:5000/api/statistics/isi', json={'spiketrain': [1,2,3,4,11]}).json()"
   ]
  }
 ],
 "metadata": {
  "kernelspec": {
   "display_name": "Python 3",
   "language": "python",
   "name": "python3"
  },
  "language_info": {
   "codemirror_mode": {
    "name": "ipython",
    "version": 3
   },
   "file_extension": ".py",
   "mimetype": "text/x-python",
   "name": "python",
   "nbconvert_exporter": "python",
   "pygments_lexer": "ipython3",
   "version": "3.7.6"
  }
 },
 "nbformat": 4,
 "nbformat_minor": 4
}
